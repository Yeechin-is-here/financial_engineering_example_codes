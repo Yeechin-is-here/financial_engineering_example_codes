{
 "cells": [
  {
   "cell_type": "markdown",
   "metadata": {},
   "source": [
    "### 第 3 章 利用期货的对冲策略\n",
    "- 3.1: 期货空头对冲（short hedge)\n",
    "- 3.2: 期货多头对冲 (long hedge)\n",
    "- 3.3: 最优对冲比率（Optimal Hedge Ratio）\n",
    "- 3.4：股指期货对冲（Hedging Using Index Futures）\n"
   ]
  },
  {
   "cell_type": "code",
   "execution_count": 7,
   "metadata": {},
   "outputs": [
    {
     "name": "stdout",
     "output_type": "stream",
     "text": [
      "期货合约的盈利（每日元）: 0.0550 美分\n",
      "合约平仓时的基差: -0.0050 美分\n",
      "实际购买日元的价格: 1.0750 美分\n",
      "公司从5000万日元所得的美元数量: $53,750,000.00\n"
     ]
    }
   ],
   "source": [
    "\"\"\"\n",
    "【例3-1】期货空头：买入空头期货（按固定价格来卖出现货的权利）来对冲风险\n",
    "\n",
    "假定今天是3月1日。 一家美国公司预期将在7月底收入5000万日元 。CME 集团的日元期货交割月份分别是3月、 6月、 9月和 12月 。 每份合约的交割数量为 1250万日元。 因此这冢公司在3月1日承约4份9月日元期货空头。 在7月底收到日元时， 公司对其期货合约平仓 。 假设日元期货在3月1日的价格为每日元 1.0800 美分，而当期货被平仓时的现货价格与期货价格分别为 1.0200美分和 1.0250美分。\n",
    "\n",
    "当公司最终收到日元时，它需要进行“平仓”操作，即解除其在期货市场上的空头头寸。这通常涉及“买回”相应数量的日元期货合约，从而关闭其在期货市场上的交易。这个买回动作的成本，加上当时的现货市场汇率，就形成了公司实际购买日元的价格。\n",
    "\n",
    "\"\"\"\n",
    "#期货空头问题：先承约空头（f1），再通过收款日承约多头（f2）进行抵消（f1-f2），获得盈利。最终兑换价格为当时的现货价格（s2）+ 抵消后的盈利（f1-f2）\n",
    "#1. 定义参数\n",
    "n = 4\n",
    "amount = 12500000 #每个期货的数量\n",
    "f1 = 1.0800 #锁定了这个汇率价格\n",
    "f2 = 1.0250 #平仓价（在这个情况中日元贬值了，所以有盈利）\n",
    "s2 = 1.0200 #平仓时现货价格\n",
    "\n",
    "#2. 期货合约的盈利：\n",
    "profit_per_unit = f1 - f2\n",
    "total_profit = profit_per_unit * n * amount\n",
    "\n",
    "#3. 基差(现货价格 - 期货价格)：\n",
    "b2 = s2 - f2\n",
    "\n",
    "#4. 每日元实际所得美元：\n",
    "actual_price = f1 + (s2 - f2)\n",
    "\n",
    "#5. 总美元收益\n",
    "usd_received = actual_price * amount * n\n",
    "\n",
    "\n",
    "print(f\"期货合约的盈利（每日元）: {profit_per_unit:.4f} 美分\")\n",
    "print(f\"合约平仓时的基差: {b2:.4f} 美分\")\n",
    "print(f\"实际购买日元的价格: {actual_price:.4f} 美分\")\n",
    "print(f\"公司从5000万日元所得的美元数量: ${usd_received:,.2f}\")\n",
    "\n"
   ]
  },
  {
   "cell_type": "code",
   "execution_count": 9,
   "metadata": {},
   "outputs": [
    {
     "name": "stdout",
     "output_type": "stream",
     "text": [
      "期货合约的盈利: 1.1000 \n",
      "合约平仓时的基差: 0.9000 \n",
      "实际买入原油的价格: 48.9000 \n",
      "购买原油总价格: $978,000.00\n"
     ]
    }
   ],
   "source": [
    "\"\"\"\n",
    "【例3-2】 期货多头：\n",
    "\n",
    "假定今天是6月8 日，一冢公司知道在10月或11月需要买入20000桶原油。 目前在CME集团纽约商品交易所 (NYMEX) 中，任何一个月交割的原油期货合约都有交易，每份合约的规模为 1000 桶 原油 。 公司决定利用 12月期货进行对冲，并买入了 20 份 12 月合约的多头 。 6 月 8 日 ， 期货价格是每桶 48.00 美元 ，公司在 11 月 10 日需要 购买原油， 因此在该天对期货合约平仓 。 在 11 月 10 日这 一天，现 货价格 和期 货价格分别是 每桶 50.00 美元和每桶 49. 10 美元 。\n",
    "\"\"\"\n",
    "#期货多头问题：先承约多头（f1），再通过收款日承约空头（f2）进行抵消（f2 - f1），获得盈利。最终兑换价格为当时的现货价格（s2）+ 抵消后的盈利（f1-f2）\n",
    "#1. 定义参数\n",
    "n = 20\n",
    "amount = 1000 #每个期货的数量\n",
    "f1 = 48 #锁定了这个汇率价格\n",
    "f2 = 49.1 #平仓价（在这个情况中原油，所以有盈利）\n",
    "s2 = 50 #平仓时现货价格\n",
    "\n",
    "#2. 期货合约的盈利：\n",
    "profit_per_unit = f2 - f1\n",
    "total_profit = profit_per_unit * n * amount\n",
    "\n",
    "#3. 基差(现货价格 - 期货价格)：\n",
    "b2 = s2 - f2\n",
    "\n",
    "#4. 每日元实际所得美元：\n",
    "actual_price = f1 + (s2 - f2)\n",
    "\n",
    "#5. 总美元收益\n",
    "usd_received = actual_price * amount * n\n",
    "\n",
    "\n",
    "print(f\"期货合约的盈利: {profit_per_unit:.4f} \")\n",
    "print(f\"合约平仓时的基差: {b2:.4f} \")\n",
    "print(f\"实际买入原油的价格: {actual_price:.4f} \")\n",
    "print(f\"购买原油总价格: ${usd_received:,.2f}\")\n"
   ]
  },
  {
   "cell_type": "code",
   "execution_count": 1,
   "metadata": {},
   "outputs": [
    {
     "name": "stdout",
     "output_type": "stream",
     "text": [
      "optimal hedge ratio: 0.7798 \n",
      "optimal number of contracts: 37.1313 \n"
     ]
    }
   ],
   "source": [
    "'''\n",
    "Optimal Hedge Ratio:\n",
    "σs =  standard deviation of ΔS,the change in the spot price during the hedging period\n",
    "σF = the standard deviation of ΔF, the change in the futures price during the hedging period\n",
    "ρ is the coefficient of correlation between ΔS and ΔF.\n",
    "\n",
    "【例3-3】Airline will purchase 2 million gallons of jet fuel in one month and hedges using heating oil futures. From historical data σF =0.0313, σS =0.0263, and ρ= 0.928. The size of one heating oil contract is 42,000 gallons\n",
    "'''\n",
    "#1. 定义参数\n",
    "σF =0.0313\n",
    "σS =0.0263\n",
    "ρ= 0.928\n",
    "QA = 2000000 #size of the position being hedged\n",
    "QF = 42000#size of contract\n",
    "\n",
    "#2. optimal hedge ratio\n",
    "h_star =  ρ * σS /σF\n",
    "\n",
    "print(f\"optimal hedge ratio: {h_star:.4f} \")\n",
    "\n",
    "#2. optimal number of contracts\n",
    "N_star = h_star * QA / QF\n",
    "print(f\"optimal number of contracts: {N_star:.4f} \")\n",
    "\n",
    "#3. Optimal Number of Contracts When Contract Is Settled Daily\n",
    "#定义参数\n",
    "σF_hat = 12#'SD of percentage daily changes in futures'\n",
    "ρ_hat = 12#'Correlation between percentage daily changes for spot and futures'\n",
    "σS_hat = 12#'SD of percentage daily changes in spot'\n",
    "VA = 12#'value of the position being hedged'\n",
    "VF = 12#'futures price times the size of one contract'\n",
    "\n",
    "h_hat = ρ_hat * σS_hat /σF_hat\n",
    "N_daily = h_hat * VA/VF"
   ]
  },
  {
   "cell_type": "code",
   "execution_count": 15,
   "metadata": {},
   "outputs": [
    {
     "name": "stdout",
     "output_type": "stream",
     "text": [
      "optimal number of contracts: 7500.0000 \n",
      "optimal number of contracts (complicated case): 30.0000 \n",
      "profit (complicated case): 810000.0000 \n",
      "股票组合的期望收益: 4286187.5000 \n",
      "最终投资组合收益（期货收益 + 股票组合收益）: 5096187.5000 \n"
     ]
    }
   ],
   "source": [
    "'''\n",
    "Hedging Using Index Futures\n",
    "股指期货：用于对冲一只股票\n",
    "当 BETA=1.0 时，股票组合收益 = 股指收益;\n",
    "当 BETA=2.0 时，股票组合收益 = 股指收益的两倍;\n",
    "当 BETA= 0.5 时，股票组合收益 = 无风险利率的收益的一半\n",
    "\n",
    "【例3-4】Index futures price is 1,000\n",
    " Value of Portfolio is $5 million \n",
    " Beta of portfolio is 1.5\n",
    "What position in futures contracts on the index is necessary to hedge the portfolio?\n",
    "'''\n",
    "\n",
    "#1. 定义参数\n",
    "VA = 5000000\n",
    "VF = 1000\n",
    "beta = 1.5\n",
    "\n",
    "#2. optimal number of contracts\n",
    "N_star = beta * VA / VF\n",
    "print(f\"optimal number of contracts: {N_star:.4f} \")\n",
    "\n",
    "'''\n",
    "更复杂的情况：利用 4 个月期限的期货合约来对股票组合在今后 3 个月内的价值进行对冲\n",
    "\n",
    "股指当前值 = 1 000 \n",
    "股指期货价格 = 1010\n",
    "组合价值 = 5 050 000( 美元) \n",
    "无风险利率 = 4% (每年) \n",
    "股指券息收益率 = 1%(每年)\n",
    "beta = 1.5\n",
    "每份期货合约 = 250 美元*股指\n",
    "假定股指在 3 个月后为 900, 期货价格为 902, 期货空头的收益为？\n",
    "'''\n",
    "#1. 定义参数\n",
    "s1 = 1000\n",
    "f1 = 1010\n",
    "s2 = 900\n",
    "f2 = 902\n",
    "amount = 250 #每个期货的数量\n",
    "beta = 1.5\n",
    "t = 3/12 #三个月\n",
    "dividend_yield = .01 * t\n",
    "r = .04 * t\n",
    "\n",
    "#2. optimal number of contracts\n",
    "VF = 250 * 1010\n",
    "VA = 5050000\n",
    "N_star = beta * VA / VF\n",
    "print(f\"optimal number of contracts (complicated case): {N_star:.4f} \")\n",
    "\n",
    "#3. 期货空头的收益\n",
    "future_profit = N_star * (f1 - f2) * amount\n",
    "print(f\"profit (complicated case): {future_profit:.4f} \")\n",
    "\n",
    "#4. 利用资产定价模型来计算最终预期值\n",
    "#股票组合的期望收益 - 无风险利率 = beta X (股指收益-无风险利率)\n",
    "index_yield_percentage = (s2 - s1)/ s1 + dividend_yield\n",
    "expected_portfolio_income_percentage = r + (beta * (index_yield_percentage - r))\n",
    "expected_portfolio_value = (1 + expected_portfolio_income_percentage) * VA\n",
    "print(f\"股票组合的期望收益: {expected_portfolio_value:.4f} \")\n",
    "\n",
    "#5. 最终投资组合收益（期货收益 + 股票组合收益）\n",
    "expected_final_value = expected_portfolio_value + future_profit\n",
    "print(f\"最终投资组合收益（期货收益 + 股票组合收益）: {expected_final_value:.4f} \")\n"
   ]
  },
  {
   "cell_type": "markdown",
   "metadata": {},
   "source": [
    "### 第4章 利息 Interest Rates\n",
    "- 4.1～4.2: 复利公式（compounding)\n",
    "- 4.3: 债券定价 + par yield + coupon yield\n",
    "- 4.4: 确定零息利率 (bootstrap method)\n",
    "- 4.5：远期利率\n",
    "- 4.6：FRA(远期利率合约)"
   ]
  },
  {
   "cell_type": "code",
   "execution_count": null,
   "metadata": {},
   "outputs": [
    {
     "name": "stdout",
     "output_type": "stream",
     "text": [
      "与之等价的连续复利利率为: 0.0975803283388641\n"
     ]
    }
   ],
   "source": [
    "import math\n",
    "\n",
    "#1. 定义参数\n",
    "A = 100\n",
    "m = 4 #quarterly compounding\n",
    "r = .05\n",
    "t = 1 #number of yrs\n",
    "\n",
    "#离散/连续复利公式\n",
    "A_annual_compounded = A * (1+r/m)**(m * t)\n",
    "A_continuously_compounded = A * math.exp(r * t)\n",
    "\n",
    "'''\n",
    "离散利率转连续利率\n",
    "【例 4-1 】 假设利率报价为每年 10%按半年复利 。 因此 m =2, Rm= 0. 1, 由式 (4-3) 得出，与之等价的连续复利利率为\n",
    "'''\n",
    "#1. 定义参数\n",
    "A = 100\n",
    "m = 2\n",
    "r = .1\n",
    "Rm = 0.1\n",
    "t = 1 #number of yrs\n",
    "\n",
    "#计算Rc\n",
    "Rc  = m * math.log(1 + Rm / m)\n",
    "print('与之等价的连续复利利率为:', Rc)\n",
    "\n",
    "'''\n",
    "连续利率转离散利率\n",
    "【例 4-2】 假设某贷款人对贷敖利率的报价为每年8% ，连续复利，利息每季度支付一次，因此 m =4, Rc= 0.08。 由式( 4-4) 得出，与之等价的按季度复利的利率为\n",
    "'''\n",
    "import math\n",
    "#1. 定义参数\n",
    "A = 100\n",
    "m = 4\n",
    "r = .1\n",
    "Rc = .08\n",
    "t = 1 #number of yrs\n",
    "\n",
    "#计算Rc\n",
    "Rm  = m * (math.exp(Rc/m) - 1)\n",
    "print('与之等价的离散复利利率为:', Rm)"
   ]
  },
  {
   "cell_type": "code",
   "execution_count": 27,
   "metadata": {},
   "outputs": [
    {
     "name": "stdout",
     "output_type": "stream",
     "text": [
      "券息（cash flow）的贴现值: [2.925929736084998, 2.8309498423103956, 2.7253920482061185, 2.6185278974661577]\n",
      "本金的贴现值: 87.28426324887192\n",
      "1. 债券理论价格(本金贴现 + 券息贴现): 98.38506277293959\n",
      "2. 计算债券收益率(解y): 0.06762438716028782\n",
      "3. 平价收益率（c = par yield）: 6.872876169086231 %\n"
     ]
    }
   ],
   "source": [
    "'''\n",
    "债券定价 & 已知零息利率，用精准零息利率贴现\n",
    "【例 4-3】假设零息利率和maturity已知，表中的利率是按连续复利。 假设一个两年期债券的本金为 100 美 元，券息为 6% ，每半年付息一次，到期归还本金\n",
    "\n",
    "1. 债券理论价格（bond price）？\n",
    "2. 债券收益率(y = bond yield)?\n",
    "3. 平价收益率（c = par yield）?\n",
    "'''\n",
    "import math\n",
    "#定义参数\n",
    "A = 100\n",
    "m = 2\n",
    "coupon = .06 / m\n",
    "\n",
    "#给表格建模\n",
    "freq = 4 #表格长度\n",
    "maturity = [i * 0.5 for i in range(1,freq + 1)]\n",
    "spot_rate = [i *.01 for i in [5, 5.8, 6.4, 6.8] ]\n",
    "\n",
    "\n",
    "\n",
    "#1. 计算债券理论价格(本金贴现 + 券息贴现)\n",
    "coupon_cash_flow = coupon * A\n",
    "discounted_coupon_cash_flow = []\n",
    "for i in range(freq):\n",
    "    cf = coupon_cash_flow * math.exp(-maturity[i] * spot_rate[i])\n",
    "    discounted_coupon_cash_flow.append(cf)\n",
    "\n",
    "discounted_A = A * math.exp(-maturity[-1] * spot_rate[-1])\n",
    "\n",
    "print(\"券息（cash flow）的贴现值:\", discounted_coupon_cash_flow)\n",
    "print(\"本金的贴现值:\", discounted_A)\n",
    "\n",
    "bond_price = discounted_A + sum(discounted_coupon_cash_flow)\n",
    "print(\"1. 债券理论价格(本金贴现 + 券息贴现):\", bond_price)\n",
    "\n",
    "\n",
    "\n",
    "#2. 计算债券收益率(解y)\n",
    "from scipy.optimize import fsolve\n",
    "import numpy as np\n",
    "\n",
    "def equation(y):\n",
    "    discounted_y_cash_flow = []\n",
    "    for i in range(freq):\n",
    "        cf = coupon_cash_flow * math.exp(-maturity[i] * y)\n",
    "        discounted_y_cash_flow.append(cf)\n",
    "    y_discounted_A = A * math.exp(-maturity[-1] * y)\n",
    "    return y_discounted_A + sum(discounted_y_cash_flow) - bond_price\n",
    "\n",
    "\n",
    "initial_guess = [1]\n",
    "\n",
    "y_solution = fsolve(equation, initial_guess)\n",
    "print(\"2. 计算债券收益率(解y):\", y_solution[0])\n",
    "\n",
    "\n",
    "#3. 平价收益率（c = par yield）\n",
    "from scipy.optimize import fsolve\n",
    "import numpy as np\n",
    "\n",
    "def equation(c):\n",
    "    discounted_c_cash_flow = []\n",
    "    for i in range(freq):\n",
    "        cf = (c/2) * math.exp(-maturity[i] * spot_rate[i])\n",
    "        discounted_c_cash_flow.append(cf)\n",
    "    c_discounted_A = A * math.exp(-maturity[-1] * spot_rate[-1])\n",
    "    return c_discounted_A + sum(discounted_c_cash_flow) - A\n",
    "\n",
    "\n",
    "initial_guess = [1]\n",
    "\n",
    "c_solution = fsolve(equation, initial_guess)\n",
    "print(\"3. 平价收益率（c = par yield）:\", c_solution[0], '%')"
   ]
  },
  {
   "cell_type": "code",
   "execution_count": 40,
   "metadata": {},
   "outputs": [
    {
     "data": {
      "text/plain": [
       "[0.0201006717070027,\n",
       " 0.022245608947319726,\n",
       " 0.022844486604668115,\n",
       " 0.02416378695338813]"
      ]
     },
     "execution_count": 40,
     "metadata": {},
     "output_type": "execute_result"
    }
   ],
   "source": [
    "'''【4-4】用债券价格确定零息利率 (bootstrap method)\n",
    "plot the zero curve using given data\n",
    "'''\n",
    "\n",
    "import math\n",
    "from scipy.optimize import fsolve\n",
    "#定义参数\n",
    "A = 100\n",
    "m = 2\n",
    "#给表格建模\n",
    "freq = 4 #表格长度\n",
    "maturity = [0.5, 1, 1.5, 2]\n",
    "coupon_per_yr = [0,0,4,5] #money returned\n",
    "bond_price = [99, 97.8, 102.5, 105.0]\n",
    "\n",
    "#zero rate without coupon (coupon = 0):\n",
    "zero_curve = []\n",
    "\n",
    "for i in range(freq):\n",
    "    if coupon_per_yr[i] == 0:\n",
    "        def equation(r):\n",
    "            return bond_price[i] * math.exp(r * maturity[i]) - A\n",
    "        initial_guess = [1]\n",
    "        r_solution = fsolve(equation, initial_guess)\n",
    "        zero_curve.append(r_solution[0])\n",
    "    else:\n",
    "        coupon_cash_flow = coupon_per_yr[i] / m\n",
    "        def equation(r):\n",
    "            discounted_cash_flow = []\n",
    "            for j in range (i):\n",
    "                discounted_cash_flow.append(coupon_cash_flow * math.exp(-maturity[j] * zero_curve[j]))\n",
    "            final_term = (A + coupon_cash_flow) * math.exp(-r * maturity[i])\n",
    "            return final_term + sum(discounted_cash_flow) - bond_price[i]\n",
    "        initial_guess = [1]\n",
    "        r_solution = fsolve(equation, initial_guess)\n",
    "        zero_curve.append(r_solution[0])        \n",
    "\n",
    "zero_curve    \n",
    "\n"
   ]
  },
  {
   "cell_type": "code",
   "execution_count": 45,
   "metadata": {},
   "outputs": [
    {
     "data": {
      "text/plain": [
       "[5.0, 5.799999999999999, 6.200000000000001, 6.5]"
      ]
     },
     "execution_count": 45,
     "metadata": {},
     "output_type": "execute_result"
    }
   ],
   "source": [
    "''' \n",
    "【4-5】用零息利率确定远期利率\n",
    "forward rate =  future zero rate implied by today’s term structure\n",
    "'''\n",
    "#给表格建模\n",
    "freq = 5 #表格长度\n",
    "maturity = [i for i in range(1,6)]\n",
    "zero_rate = [3.0, 4, 4.6, 5, 5.3]\n",
    "forward_rates = []\n",
    "\n",
    "for i in range(freq - 1):\n",
    "    forward_rate = (maturity[i+1] * zero_rate[i+1] - maturity[i] * zero_rate[i])/(maturity[i+1] - maturity[i])\n",
    "    forward_rates.append(forward_rate)\n",
    "\n",
    "forward_rates"
   ]
  },
  {
   "cell_type": "code",
   "execution_count": 46,
   "metadata": {},
   "outputs": [
    {
     "name": "stdout",
     "output_type": "stream",
     "text": [
      "0.36924653855465434\n"
     ]
    }
   ],
   "source": [
    "''' \n",
    "【4-6】FRA(远期利率合约)\n",
    "用predetermined forward rate来换actual forward rate\n",
    "\n",
    "An FRA entered into some time ago states that a company will receive 5.8% (s.a.) and pay SOFR on a principal of $100 million starting in 1.5 years\n",
    "Forward SOFR for the period between 1.5 and 2 years is 5% (s.a.) The 2 year (SOFR) risk-free rate is 4% with continuous compounding\n",
    "求value of FRA\n",
    "'''\n",
    "import math\n",
    "\n",
    "#定义参数\n",
    "A = 100\n",
    "m = 2\n",
    "T1 = 1.5\n",
    "T2 = 2\n",
    "actual_rate = .05\n",
    "fixed_rate = .058\n",
    "r = .04\n",
    "\n",
    "# 计算fra\n",
    "FRA_VALUE = A * (fixed_rate - actual_rate) * (T2 - T1) * math.exp(-r*T2)\n",
    "\n",
    "print(FRA_VALUE)\n"
   ]
  },
  {
   "cell_type": "markdown",
   "metadata": {},
   "source": [
    "### 第5章 确定远期和期货价格 Determination of Forward and Futures Prices\n",
    "- 5.1: 投资资产的远期价格\n",
    "- 5.2: 消费资产的远期价格\n",
    "\n",
    "（注意：I和U都是现值，如果给的是未来值（到期付款/收款）的话，需要先折现）\n",
    "\n",
    "Foward和future均可套用-- When the maturity and asset price are the same, forward and futures prices are usually assumed to be equal."
   ]
  },
  {
   "cell_type": "code",
   "execution_count": 2,
   "metadata": {},
   "outputs": [
    {
     "name": "stdout",
     "output_type": "stream",
     "text": [
      "该资产远期价格: 40.5031 \n",
      "多头收益: -0.4907 \n",
      "空头收益: 0.4907 \n"
     ]
    }
   ],
   "source": [
    "'''\n",
    "【例5-1】投资资产的远期价格\n",
    "long a forward of an asset where r is the T-year risk-free rate of interest. In our examples, S0 =40, T=0.25, and r=0.05, \n",
    "\n",
    "1. what is the forward price?\n",
    "2. value of a long forward contract？\n",
    "3. value of a short forward contract？\n",
    "'''\n",
    "import math\n",
    "\n",
    "#定义参数\n",
    "S0 = 40 #资产现值\n",
    "T = .25\n",
    "r = .05\n",
    "K = 41 #远期合约中的协议价格\n",
    "\n",
    "#特殊情况参数 \n",
    "I = 0  #如果该投资资产在远期时间内有固定收入，则i为该收入现值\n",
    "'''\n",
    "q = 如果已知该资产有某固定连续收益率\n",
    "比如index的average dividend yield\n",
    "或者foreign risk-free interest rate （if asset is foreign frequency）\n",
    "'''\n",
    "q = 0\n",
    "\n",
    "#1. 资产远期价格\n",
    "F0 = (S0 - I) * math.exp((r - q) * T)\n",
    "print(f\"该资产远期价格: {F0:.4f} \")\n",
    "\n",
    "#2. value of long contract\n",
    "V_long = (F0 - K) * math.exp(-r * T)\n",
    "print(f\"多头收益: {V_long:.4f} \")\n",
    "\n",
    "#3. value of short contract\n",
    "V_short = (K - F0) * math.exp(-r * T)\n",
    "print(f\"空头收益: {V_short:.4f} \")"
   ]
  },
  {
   "cell_type": "code",
   "execution_count": 3,
   "metadata": {},
   "outputs": [
    {
     "name": "stdout",
     "output_type": "stream",
     "text": [
      "该资产远期价格: 40.5031 \n",
      "多头收益: -0.4907 \n",
      "空头收益: 0.4907 \n",
      "持有成本: 0.0500 \n"
     ]
    }
   ],
   "source": [
    "'''\n",
    "【例5-2】消费资产的远期价格\n",
    "long a forward of an asset where r is the T-year risk-free rate of interest. In our examples, S0 =40, T=0.25, and r=0.05, \n",
    "\n",
    "1. what is the forward price?\n",
    "2. value of a long forward contract？\n",
    "3. value of a short forward contract？\n",
    "4. cost of carry?\n",
    "'''\n",
    "import math\n",
    "\n",
    "#定义参数\n",
    "S0 = 40 #资产现值\n",
    "T = .25\n",
    "r = .05\n",
    "K = 41 #远期合约中的协议价格\n",
    "\n",
    "#特殊情况参数 \n",
    "u = 0  #如果storage cost按资产比率收费\n",
    "U = 0 #如果storage cost按固定金额收费\n",
    "q = 0\n",
    "\n",
    "#1. 资产远期价格\n",
    "F0 = (S0 + U) * math.exp((r - q + u) * T)\n",
    "print(f\"该资产远期价格: {F0:.4f} \")\n",
    "\n",
    "#2. value of long contract\n",
    "V_long = (F0 - K) * math.exp(-r * T)\n",
    "print(f\"多头收益: {V_long:.4f} \")\n",
    "\n",
    "#3. value of short contract\n",
    "V_short = (K - F0) * math.exp(-r * T)\n",
    "print(f\"空头收益: {V_short:.4f} \")\n",
    "\n",
    "#4. cost of carry\n",
    "cost_of_carry = r - q + u\n",
    "print(f\"持有成本: {cost_of_carry:.4f} \")"
   ]
  },
  {
   "cell_type": "markdown",
   "metadata": {},
   "source": [
    "### 第7章 互换（swaps）\n",
    "\n",
    "- 7.1 value of swap(固定利率换浮动利率)\n",
    "- 7.2 货币利率互换"
   ]
  },
  {
   "cell_type": "code",
   "execution_count": 19,
   "metadata": {},
   "outputs": [
    {
     "name": "stdout",
     "output_type": "stream",
     "text": [
      "[1.4999999999999858, 1.4999999999999858, 1.4999999999999858]\n",
      "[0.025156903081268833, 0.03388382720465222, 0.03714064608849865]\n",
      "[1.2578451540634417, 1.6941913602326109, 1.8570323044249326]\n",
      "0.2918458130188146\n"
     ]
    }
   ],
   "source": [
    "''' \n",
    "【例7-1】\n",
    "Swap involves paying 3% per annum and receiving SOFR every six months on $100 million\n",
    "Swap has 1.2 years remaining (exchanges in 0.2, 0.7, and 1.2 years). Risk-free rate for 0.2, 0.7, and 1.2 years are 2.8%, 3.2% and 3.4%, respectively (continuously compounded). Rate observed for last 0.3 years is 2.3% continuously compounded.\n",
    "\n",
    "1. what is the value of swap?\n",
    "'''\n",
    "#定义参数\n",
    "m = 2\n",
    "A = 100\n",
    "t = 0.5\n",
    "#表格建模\n",
    "freq = 3\n",
    "maturity = [0.2, 0.7, 1.2] \n",
    "zero_rate = [i* .01 for i in [2.8, 3.2, 3.4]]\n",
    "fixed_rate = .03\n",
    "\n",
    "#1. 计算互换的固定利率方现金流（半年复利，interest = A * (1+fixed_rate/m)**(m * t) - A）\n",
    "fixed_leg = [A * (1+fixed_rate/m)**(m * t) - A]* freq\n",
    "print(fixed_leg)\n",
    "\n",
    "\n",
    "#2. 将浮动利率的后几节转化为远期利率\n",
    "#在这里，第1个交付期情况特殊。由于每半年付息，我们需要考虑0.2年之前的0.3年--平时用spot rate就可以\n",
    "float_rate = []\n",
    "sofr_before_start = 2.3 * 0.01\n",
    "float_rate.append(.3/.5 * sofr_before_start + .2/.5 * zero_rate[0])\n",
    "#接下来的交付期用forward rate\n",
    "for i in range(freq - 1):\n",
    "    forward_rate = (maturity[i+1] * zero_rate[i+1] - maturity[i] * zero_rate[i])/(maturity[i+1] - maturity[i])\n",
    "    float_rate.append(forward_rate)\n",
    "#由于另一边leg是半年付息，这里我们也要把连续利率转化为半年付息（Rm  = m * (math.exp(Rc/m) - 1)）\n",
    "float_rate = [m * (math.exp(i/m) - 1) for i in float_rate]\n",
    "\n",
    "\n",
    "#3. 计算浮动利率方的现金流\n",
    "print(float_rate)\n",
    "float_leg = [A*i/m for i in float_rate]\n",
    "print(float_leg)\n",
    "\n",
    "\n",
    "#4. 计算swap价值（这个case是付fixed收到float）\n",
    "discounted_net_cash_flow = [(x - y)*math.exp(-r * z) for x, y, r, z in zip(float_leg, fixed_leg, zero_rate, maturity)]\n",
    "value_of_swap = sum(discounted_net_cash_flow)\n",
    "print(value_of_swap)\n"
   ]
  },
  {
   "cell_type": "code",
   "execution_count": 31,
   "metadata": {},
   "outputs": [
    {
     "name": "stdout",
     "output_type": "stream",
     "text": [
      "leg_japan: [36.0, 36.0, 1236.0]\n",
      "leg_usd: [0.40000000000000036, 0.40000000000000036, 10.4]\n",
      "0.9627879764729588\n"
     ]
    }
   ],
   "source": [
    "'''\n",
    "【例7-2】 货币利率互换\n",
    "All Japanese interest rates are 1.5% per annum (cont. comp.)\n",
    "All USD interest rates are 2.5% per annum (cont. comp.)\n",
    "3% is received in yen; 4% is paid in dollars. Payments are made annually\n",
    "Principals are $10 million and 1,200 million yen Swap will last for 3 more years\n",
    "Current exchange rate is 110 yen per dollar\n",
    "\n",
    "1. what is the value of swap?\n",
    "'''\n",
    "#定义参数\n",
    "m = 1\n",
    "A_japan = 1200\n",
    "A_usd = 10\n",
    "t = 1\n",
    "pay_rate = .04\n",
    "receive_rate = .03\n",
    "r_japan = 1.5 *.01\n",
    "r_usd = 2.5 *.01\n",
    "\n",
    "#表格建模\n",
    "freq = 3\n",
    "maturity = [1,2,3]\n",
    "\n",
    "#1. legs(暂不考虑汇率)\n",
    "leg_japan = [A_japan * (1+receive_rate/m)**(m * t) - A_japan] * freq\n",
    "leg_japan[-1] = leg_japan[-1] + A_japan #最后一次加上本金\n",
    "leg_usd = [A_usd * (1+pay_rate/m)**(m * t) - A_usd] * freq\n",
    "leg_usd[-1] = leg_usd[-1] + A_usd #最后一次加上本金\n",
    "print(\"leg_japan:\", leg_japan)\n",
    "print(\"leg_usd:\", leg_usd)\n",
    "\n",
    "#2. 计算远期汇率\n",
    "currency_exchange_rate = []\n",
    "for t in range(1, freq+1):\n",
    "    currency_exchange_rate.append((1/110)* math.exp((r_usd - r_japan) * t)) \n",
    "\n",
    "#3.将日元换汇成美元\n",
    "leg_japan_in_usd = [x*y for x,y in zip(leg_japan,currency_exchange_rate)]\n",
    "\n",
    "#4. 计算net cash flow & value of swap\n",
    "discounted_net_cash_flow = [(x - y)*math.exp(-r_usd * z) for x, y, z in zip(leg_japan_in_usd, leg_usd, maturity)]\n",
    "value_of_swap = sum(discounted_net_cash_flow)\n",
    "print(value_of_swap)\n"
   ]
  },
  {
   "cell_type": "markdown",
   "metadata": {},
   "source": [
    "### 第11章 股票期权的性质（Properties of Stock Options）\n",
    "- 【11-1】影响股票期权价格的六大因素\n",
    "- 【11-2】看跌-看涨平价关系式"
   ]
  },
  {
   "cell_type": "code",
   "execution_count": null,
   "metadata": {},
   "outputs": [],
   "source": [
    "''' \n",
    "【11-1】影响股票期权价格的六大因素\n",
    "'''\n",
    "#六大因素：\n",
    "S0 = 50     #当前股票价格\n",
    "K = 50      #执行价格\n",
    "T = 1       #期权期限\n",
    "σ = 0.3     #股价的波动率\n",
    "r = 0.05    #在T时刻的无风险利率\n",
    "d = 0       #预计支付的股息\n",
    "\n",
    "#要求的变量\n",
    "ST = 0      #T时刻\n",
    "#美式看涨，看跌期权价格\n",
    "C = 0\n",
    "P = 0\n",
    "#欧式看涨，看跌期权价格\n",
    "c = 0\n",
    "p = 0"
   ]
  },
  {
   "cell_type": "code",
   "execution_count": null,
   "metadata": {},
   "outputs": [],
   "source": [
    "''' \n",
    "【11-2】看涨-看跌平价关系式\n",
    "c + Ke^(-rT) = p + S0\n",
    "'''"
   ]
  },
  {
   "cell_type": "markdown",
   "metadata": {},
   "source": [
    "### 第13章 二叉树（Binomial trees)\n",
    "- 【13-1】单步二叉树\n",
    "- 【13-2】两步二叉树\n",
    "\n",
    "(含股息的二叉树见1-3 hw)\n"
   ]
  },
  {
   "cell_type": "code",
   "execution_count": 38,
   "metadata": {},
   "outputs": [
    {
     "name": "stdout",
     "output_type": "stream",
     "text": [
      "0.544775748128743\n"
     ]
    }
   ],
   "source": [
    "''' \n",
    "【13-1】单步二叉树:\n",
    "股票不论上涨还是下跌，投资组合的价值相等，且无风险投资组合的收益率等千无风险利率\n",
    "S0*u*Δ - fu = S0*d*Δ - fd\n",
    "Δ = 一份股票多头 + 一份期权空头\n",
    "\n",
    "e.g. A stock price is currently $20\n",
    "In 3 months it will be either $22 or $18\n",
    "A 3-month call option on the stock has a strike price of 21.\n",
    "Risk-Free Rate is 4%\n",
    "'''\n",
    "\n",
    "#1. 定义参数：\n",
    "S0 = 20\n",
    "K = 21\n",
    "u = 1.1\n",
    "d = 0.9\n",
    "r = 0.04\n",
    "T = 0.25  #总时长\n",
    "n = 1     #步数\n",
    "dt = 0.25 #步长\n",
    "\n",
    "#2. 通过u, d来计算上涨概率p\n",
    "p = (math.exp(r * dt) - d) / (u - d)\n",
    "\n",
    "#计算Su, Sd, fu, fd (二叉树模型构建)\n",
    "Su = S0 * u\n",
    "Sd = S0 * d\n",
    "fu = max(Su - K, 0) #call option: 收益为股票，支出为买入价\n",
    "fd = max(Sd - K, 0)\n",
    "\n",
    "#3. ƒ = [ pƒu + (1 – p)ƒd ]e–rT\n",
    "f = (p * fu + (1-p) * fd) * math.exp(-r * dt)\n",
    "\n",
    "print(f)"
   ]
  },
  {
   "cell_type": "code",
   "execution_count": 58,
   "metadata": {},
   "outputs": [
    {
     "name": "stdout",
     "output_type": "stream",
     "text": [
      "0.5179585268029778\n",
      "European put value:  7.581044301662419\n",
      "American put value:  8.590088466239445\n"
     ]
    }
   ],
   "source": [
    "''' \n",
    "【13-2】多步二叉树:\n",
    "\n",
    "考虑波动率后的模型\n",
    "\n",
    "Consider the following economic inputs:\n",
    "S = 100; K=100; Rf = 3%; σ = 20% T = 2\n",
    "Year Semi-annual time steps (4 Time Steps) \n",
    "Calculate the following:\n",
    "a) European and American Value of a Put option?\n",
    "'''\n",
    "import numpy as np\n",
    "\n",
    "#1. 定义参数\n",
    "S = 100\n",
    "K=100\n",
    "Rf = 0.03\n",
    "σ = 0.2\n",
    "T = 2\n",
    "n = 4\n",
    "dt = T/n\n",
    "\n",
    "\n",
    "#2. 计算u, d, p\n",
    "u = np.exp(σ * np.sqrt(dt))#根据波动率来给u建模\n",
    "d = 1/u \n",
    "p = (np.exp(r * dt) - d) / (u - d)\n",
    "\n",
    "#3. 构建二叉树（n*n matrix）\n",
    "stock_prices = np.zeros((n+1, n+1))             \n",
    "option_values_european = np.zeros((n+1, n+1))\n",
    "option_values_american = np.zeros((n+1, n+1))\n",
    "\n",
    "# 股价二叉树模型（含dividend）\n",
    "for i in range(n+1):\n",
    "    for j in range(i+1):\n",
    "        #单个node的股价\n",
    "        stock_price = S * (u ** j) * (d ** (i - j))\n",
    "        stock_prices[i, j] = stock_price\n",
    "\n",
    "#4. 计算到期时的期权价格\n",
    "for j in range(n+1):\n",
    "    option_values_european[n, j] = max(K - stock_prices[n, j], 0)\n",
    "    option_values_american[n, j] = max(K - stock_prices[n, j], 0)\n",
    "\n",
    "\n",
    "#5. 计算最终欧美期权\n",
    "for i in range(n-1, -1, -1):\n",
    "    for j in range(i+1):\n",
    "        option_values_european[i, j] = np.exp(-Rf * dt) * (p * option_values_european[i+1, j+1] + (1-p) * option_values_european[i+1, j])\n",
    "        # For American options, consider the possibility of early exercise\n",
    "        option_values_american[i, j] = max(K - stock_prices[i, j], np.exp(-Rf * dt) * (p * option_values_american[i+1, j+1] + (1-p) * option_values_american[i+1, j]))\n",
    "\n",
    "\n",
    "# The value of the options at t=0\n",
    "european_put_value = option_values_european[0, 0]\n",
    "american_put_value = option_values_american[0, 0]\n",
    "\n",
    "print(p)\n",
    "print(\"European put value: \", european_put_value) \n",
    "print(\"American put value: \", american_put_value)"
   ]
  },
  {
   "cell_type": "code",
   "execution_count": 54,
   "metadata": {},
   "outputs": [
    {
     "data": {
      "image/png": "[encoded data removed]",
      "text/plain": [
       "<Figure size 864x576 with 1 Axes>"
      ]
     },
     "metadata": {
      "needs_background": "light"
     },
     "output_type": "display_data"
    },
    {
     "data": {
      "image/png": "[encoded data removed]",
      "text/plain": [
       "<Figure size 864x576 with 1 Axes>"
      ]
     },
     "metadata": {
      "needs_background": "light"
     },
     "output_type": "display_data"
    },
    {
     "data": {
      "image/png": "[encoded data removed]",
      "text/plain": [
       "<Figure size 864x576 with 1 Axes>"
      ]
     },
     "metadata": {
      "needs_background": "light"
     },
     "output_type": "display_data"
    }
   ],
   "source": [
    "import matplotlib.pyplot as plt\n",
    "\n",
    "def plot_binomial_tree(stock_prices, title='Binomial Tree for Stock Prices'):\n",
    "    plt.figure(figsize=(12, 8))\n",
    "    for i in range(n+1):\n",
    "        for j in range(i+1):\n",
    "            plt.plot([i, i+1], [j, j], 'ro-')  # Horizontal lines\n",
    "            if j < i:\n",
    "                plt.plot([i, i+1], [j, j+1], 'ro-')  # Upward lines\n",
    "            plt.text(i, j, f'{stock_prices[i, j]:.2f}', ha='center', va='bottom')\n",
    "    plt.title(title)\n",
    "    plt.xlabel('Time Step')\n",
    "    plt.ylabel('Node')\n",
    "    plt.grid(True)\n",
    "    plt.show()\n",
    "\n",
    "def plot_option_values(option_values, title='Binomial Tree for Option Values'):\n",
    "    plt.figure(figsize=(12, 8))\n",
    "    for i in range(n+1):\n",
    "        for j in range(i+1):\n",
    "            plt.plot([i, i+1], [j, j], 'bo-')  # Horizontal lines\n",
    "            if j < i:\n",
    "                plt.plot([i, i+1], [j, j+1], 'bo-')  # Upward lines\n",
    "            plt.text(i, j, f'{option_values[i, j]:.2f}', ha='center', va='bottom')\n",
    "    plt.title(title)\n",
    "    plt.xlabel('Time Step')\n",
    "    plt.ylabel('Node')\n",
    "    plt.grid(True)\n",
    "    plt.show()\n",
    "\n",
    "# Plot the stock price tree\n",
    "plot_binomial_tree(stock_prices)\n",
    "\n",
    "# Plot the American put option value tree\n",
    "plot_option_values(option_values_american, 'Binomial Tree for American Put Option Values')\n",
    "\n",
    "plot_option_values(option_values_european, 'Binomial Tree for european Put Option Values')"
   ]
  },
  {
   "cell_type": "markdown",
   "metadata": {},
   "source": [
    "### 第14章 Wiener Processes and Itô’s Lemma （维纳过程和伊藤引理）"
   ]
  },
  {
   "cell_type": "markdown",
   "metadata": {},
   "source": [
    "### 第15章 The Black-Scholes-Merton Model （BSM模型）\n"
   ]
  },
  {
   "cell_type": "markdown",
   "metadata": {},
   "source": [
    "### 第22章 VaR(在险价值)和 ES（预期亏损） 的测度 \n",
    "- 【22-1】通过历史数据来测算Var和ES\n",
    "- 【22-2】通过正态分布模型来测算Var和ES（单一资产）\n",
    "- 【22-3】通过正态分布模型来测算Var和ES（多资产）\n",
    "- 【22-4】通过PCA来计算VaR\n",
    "\n",
    "\n",
    "- VaR: 两个参数，持有期（T）,置信度（ci）-- n天内有百分之多少的概率会亏这么多以上\n",
    "- Expected shortfall: 如果损失超过了var，预期亏损是多少\n",
    "- 建模基于假设：亏损分布服从均值 μ 、标准差 o 的正态分布"
   ]
  },
  {
   "cell_type": "code",
   "execution_count": 84,
   "metadata": {},
   "outputs": [
    {
     "data": {
      "text/html": [
       "<div>\n",
       "<style scoped>\n",
       "    .dataframe tbody tr th:only-of-type {\n",
       "        vertical-align: middle;\n",
       "    }\n",
       "\n",
       "    .dataframe tbody tr th {\n",
       "        vertical-align: top;\n",
       "    }\n",
       "\n",
       "    .dataframe thead th {\n",
       "        text-align: right;\n",
       "    }\n",
       "</style>\n",
       "<table border=\"1\" class=\"dataframe\">\n",
       "  <thead>\n",
       "    <tr style=\"text-align: right;\">\n",
       "      <th></th>\n",
       "      <th>Date</th>\n",
       "      <th>S&amp;P 500</th>\n",
       "      <th>FTSE-500</th>\n",
       "      <th>CAC-40</th>\n",
       "      <th>Nikkei</th>\n",
       "      <th>Unnamed: 5</th>\n",
       "      <th>Unnamed: 6</th>\n",
       "    </tr>\n",
       "  </thead>\n",
       "  <tbody>\n",
       "    <tr>\n",
       "      <th>0</th>\n",
       "      <td>5/9/18</td>\n",
       "      <td>5292.90</td>\n",
       "      <td>8830.229</td>\n",
       "      <td>16910.33</td>\n",
       "      <td>322.3993</td>\n",
       "      <td>NaN</td>\n",
       "      <td>NaN</td>\n",
       "    </tr>\n",
       "    <tr>\n",
       "      <th>1</th>\n",
       "      <td>5/10/18</td>\n",
       "      <td>5343.70</td>\n",
       "      <td>8926.561</td>\n",
       "      <td>16915.41</td>\n",
       "      <td>321.2446</td>\n",
       "      <td>NaN</td>\n",
       "      <td>NaN</td>\n",
       "    </tr>\n",
       "    <tr>\n",
       "      <th>2</th>\n",
       "      <td>5/11/18</td>\n",
       "      <td>5354.69</td>\n",
       "      <td>8982.756</td>\n",
       "      <td>17065.64</td>\n",
       "      <td>326.1963</td>\n",
       "      <td>NaN</td>\n",
       "      <td>NaN</td>\n",
       "    </tr>\n",
       "    <tr>\n",
       "      <th>3</th>\n",
       "      <td>5/14/18</td>\n",
       "      <td>5359.66</td>\n",
       "      <td>8999.310</td>\n",
       "      <td>17121.67</td>\n",
       "      <td>328.0291</td>\n",
       "      <td>NaN</td>\n",
       "      <td>NaN</td>\n",
       "    </tr>\n",
       "    <tr>\n",
       "      <th>4</th>\n",
       "      <td>5/15/18</td>\n",
       "      <td>5323.23</td>\n",
       "      <td>9003.785</td>\n",
       "      <td>17130.13</td>\n",
       "      <td>326.1704</td>\n",
       "      <td>NaN</td>\n",
       "      <td>NaN</td>\n",
       "    </tr>\n",
       "  </tbody>\n",
       "</table>\n",
       "</div>"
      ],
      "text/plain": [
       "      Date  S&P 500  FTSE-500    CAC-40    Nikkei  Unnamed: 5  Unnamed: 6\n",
       "0   5/9/18  5292.90  8830.229  16910.33  322.3993         NaN         NaN\n",
       "1  5/10/18  5343.70  8926.561  16915.41  321.2446         NaN         NaN\n",
       "2  5/11/18  5354.69  8982.756  17065.64  326.1963         NaN         NaN\n",
       "3  5/14/18  5359.66  8999.310  17121.67  328.0291         NaN         NaN\n",
       "4  5/15/18  5323.23  9003.785  17130.13  326.1704         NaN         NaN"
      ]
     },
     "execution_count": 84,
     "metadata": {},
     "output_type": "execute_result"
    }
   ],
   "source": [
    "''' \n",
    "【22-1】示例 : 通过历史数据计算var\n",
    "Calculation of 10-day, 99% VaR or ES for a Portfolio on July 8, 2020 ,given the portfolio\n",
    "\n",
    "S&P 500: 4,000\n",
    "FTSE 100: 3,000\n",
    "CAC 40: 1,000\n",
    "Nikkei 225: 2,000\n",
    "'''\n",
    "import pandas as pd\n",
    "import numpy as np\n",
    "np.set_printoptions(suppress=True, precision=4)\n",
    "\n",
    "#1. 读取数据, 定义参数\n",
    "n = 10\n",
    "ci = 99\n",
    "df = pd.read_csv('22-1.csv')\n",
    "df.head()"
   ]
  },
  {
   "cell_type": "code",
   "execution_count": 86,
   "metadata": {},
   "outputs": [
    {
     "name": "stdout",
     "output_type": "stream",
     "text": [
      "[[ 6558.4884  7334.1918 15545.1085   340.7882 10064.2563   -64.2563]\n",
      " [ 6509.5001  7300.7164 15678.4585   347.2849 10066.8218   -66.8218]\n",
      " [ 6502.1694  7268.4141 15591.4625   343.9348 10023.7618   -23.7618]\n",
      " [ 6451.9853  7258.6516 15548.1187   340.0752  9963.4651    36.5349]\n",
      " [ 6524.3298  7250.1795 15436.6564   338.7552  9989.6167    10.3833]]\n",
      "Values above the 99th percentile: [490.2147 653.5419 922.484  858.4228 422.2913]\n",
      "VaR_10_99: 1335.4024007065877\n",
      "ES:  669.3909494653544\n"
     ]
    }
   ],
   "source": [
    "#2. 给portfolio建模\n",
    "portfolio = {\n",
    "    'S&P 500': 4000,\n",
    "    'FTSE-500': 3000,\n",
    "    'CAC-40': 1000,\n",
    "    'Nikkei': 2000}\n",
    "total = 4000+3000+1000+2000\n",
    "\n",
    "#3. 500 simulation trials\n",
    "simulation_trials = np.zeros((500, 6))\n",
    "for i in range(500):\n",
    "    for index, key in enumerate(portfolio.keys()):\n",
    "        simulation_trials[i][index] = df[key][i+1] / df[key][i] * df[key][500]\n",
    "        simulation_trials[i][4] += simulation_trials[i][index] * portfolio[key] / df[key][500]\n",
    "    simulation_trials[i][5] = total - simulation_trials[i][4]\n",
    "print(simulation_trials[:5])\n",
    "\n",
    "# 4. 计算99%VaR: 先排序，取top 99%亏损\n",
    "loss = simulation_trials[:, 5] \n",
    "percentile_99 = np.percentile(loss, ci)\n",
    "values_above_99 = loss[loss >= percentile_99]\n",
    "print(f\"Values above the 99th percentile: {values_above_99}\")\n",
    "\n",
    "# 5. 计算VaR: 10 天 99% 的 VaR 通常是将 1 天 99% 的 VaR 乘以 sqrt(n),\n",
    "VaR_10_99 = np.min(values_above_99) * np.sqrt(n)\n",
    "print(\"VaR_10_99:\", VaR_10_99)\n",
    "\n",
    "#6. 计算ES\n",
    "ES = np.average(values_above_99)\n",
    "print(\"ES: \", ES)\n"
   ]
  },
  {
   "cell_type": "code",
   "execution_count": 107,
   "metadata": {},
   "outputs": [
    {
     "name": "stdout",
     "output_type": "stream",
     "text": [
      "VaR_10_99: -1471311.5823719108\n",
      "ES: 533042.8440691611\n"
     ]
    }
   ],
   "source": [
    "'''\n",
    "【22-2】通过模型构建法，单一资产，日波动率(假设价格变化服从正态分布)\n",
    "当我们采用模型构建法计算 VaR 与 ES 时，一般以“日”为时间单位，对资产波动率的度量单位 往往采用“日波动率”。\n",
    "σ_day = σ_yr / np.sqrt(252)\n",
    "\n",
    "例：单一资产， N = 10 天和 X =99%，假定微软公司股票的日波动率为 2% (对应的年波动率为 32% )，因为交易头寸的数量为 1 000 万美元，所以交易组合每天价值变化的标准差为 1 000 万美元的 2% ，即 200 000 美元 。假设在持有期内市场价格变化的期望值为 0。\n",
    "'''\n",
    "#1. 定义参数\n",
    "T = 10\n",
    "CI = 0.99\n",
    "A = 10000000\n",
    "σ_day = 0.02 \n",
    "yr_profit = .2\n",
    "\n",
    "\n",
    "#2. 计算每日sd（每日收益model = 0）\n",
    "sd_day = σ_day * A\n",
    "μ = 0\n",
    "\n",
    "#3. 计算normsinv，99%属于几倍标准差\n",
    "from scipy.stats import norm\n",
    "probability = 1 - CI\n",
    "normsinv_value = norm.ppf(probability)\n",
    "\n",
    "#4. 计算var\n",
    "VaR_10_99 = normsinv_value * sd_day * np.sqrt(T)\n",
    "print(\"VaR_10_99:\", VaR_10_99)\n",
    "\n",
    "#5. 计算ES\n",
    "ES = μ + (sd_day * np.exp((-(normsinv_value)**2)/2))/(np.sqrt(2* np.pi)*(1 - CI))\n",
    "print(\"ES:\", ES)"
   ]
  },
  {
   "cell_type": "code",
   "execution_count": 92,
   "metadata": {},
   "outputs": [
    {
     "name": "stdout",
     "output_type": "stream",
     "text": [
      "组合标准差: 220227.15545545242\n",
      "VaR_10_99: -1620113.8228721323\n"
     ]
    }
   ],
   "source": [
    "'''\n",
    "【22-3】通过模型构建法，单一资产，日波动率(假设价格变化服从正态分布)\n",
    "当我们采用模型构建法计算 VaR 与 ES 时，一般以“日”为时间单位，对资产波动率的度量单位 往往采用“日波动率”。\n",
    "σ_day = σ_yr / np.sqrt(252)\n",
    "\n",
    "例：假设除了上题的微软，我们还投了500万美元的att，日波动率为 1% (对应的年波动率大约为 16% ) 。假定微软与 AT&T 的股票价格变化服从二元正态分布，分布的相关系数为 0.3。\n",
    "'''\n",
    "#1. 分别计算每日标准差\n",
    "sd_x = 10000000 * .02\n",
    "sd_y = .01 * 5000000\n",
    "rho = 0.3\n",
    "\n",
    "#2. 计算组合标准差\n",
    "sd_xy = np.sqrt(sd_x**2 + sd_y**2 + 2*rho*sd_x*sd_y)\n",
    "print(\"组合标准差:\", sd_xy)\n",
    "\n",
    "#3. 计算normsinv，99%属于几倍标准差\n",
    "from scipy.stats import norm\n",
    "probability = 1 - CI\n",
    "normsinv_value = norm.ppf(probability)\n",
    "\n",
    "#4. 计算var\n",
    "VaR_10_99 = normsinv_value * sd_xy * np.sqrt(T)\n",
    "print(\"VaR_10_99:\", VaR_10_99)"
   ]
  },
  {
   "cell_type": "code",
   "execution_count": null,
   "metadata": {},
   "outputs": [],
   "source": [
    "''' \n",
    "【22-3】 利用主成分分析法计算 VaR\n",
    "例：已知Sensitivity of portfolio to 1 bp rate move in 5 yrs, \n",
    "'''"
   ]
  },
  {
   "cell_type": "markdown",
   "metadata": {},
   "source": [
    "### 第23章 估计波动率和相关系数 Estimating Volatilities and Correlations\n",
    "- 【23-1】 Standard approach\n",
    "- 【23-2】 "
   ]
  },
  {
   "cell_type": "code",
   "execution_count": null,
   "metadata": {},
   "outputs": [],
   "source": [
    "''' \n",
    "【23-1】 Standard approach\n",
    "sigma_n = volatility/day between day n-1 and \n",
    "'''\n",
    "import numpy as np\n",
    "\n",
    "σ_n = 0.2 #volatility/day between day n-1 and n\\\n",
    "S = np.array([...])  #value of market variable at end of day i\n",
    "\n",
    "\n"
   ]
  }
 ],
 "metadata": {
  "kernelspec": {
   "display_name": "base",
   "language": "python",
   "name": "python3"
  },
  "language_info": {
   "codemirror_mode": {
    "name": "ipython",
    "version": 3
   },
   "file_extension": ".py",
   "mimetype": "text/x-python",
   "name": "python",
   "nbconvert_exporter": "python",
   "pygments_lexer": "ipython3",
   "version": "3.8.8"
  }
 },
 "nbformat": 4,
 "nbformat_minor": 2
}
