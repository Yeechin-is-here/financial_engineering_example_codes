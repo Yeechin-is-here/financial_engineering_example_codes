{
 "cells": [
  {
   "cell_type": "markdown",
   "metadata": {},
   "source": [
    "### 第 3 章 利用期货的对冲策略\n",
    "- 3.1: 期货空头对冲（short hedge)\n",
    "- 3.2: 期货多头对冲 (long hedge)\n",
    "- 3.3: 最优对冲比率（Optimal Hedge Ratio）\n",
    "- 3.4：股指期货对冲（Hedging Using Index Futures）\n"
   ]
  },
  {
   "cell_type": "code",
   "execution_count": 7,
   "metadata": {},
   "outputs": [
    {
     "name": "stdout",
     "output_type": "stream",
     "text": [
      "期货合约的盈利（每日元）: 0.0550 美分\n",
      "合约平仓时的基差: -0.0050 美分\n",
      "实际购买日元的价格: 1.0750 美分\n",
      "公司从5000万日元所得的美元数量: $53,750,000.00\n"
     ]
    }
   ],
   "source": [
    "\"\"\"\n",
    "【例3-1】期货空头：买入空头期货（按固定价格来卖出现货的权利）来对冲风险\n",
    "\n",
    "假定今天是3月1日。 一家美国公司预期将在7月底收入5000万日元 。CME 集团的日元期货交割月份分别是3月、 6月、 9月和 12月 。 每份合约的交割数量为 1250万日元。 因此这冢公司在3月1日承约4份9月日元期货空头。 在7月底收到日元时， 公司对其期货合约平仓 。 假设日元期货在3月1日的价格为每日元 1.0800 美分，而当期货被平仓时的现货价格与期货价格分别为 1.0200美分和 1.0250美分。\n",
    "\n",
    "当公司最终收到日元时，它需要进行“平仓”操作，即解除其在期货市场上的空头头寸。这通常涉及“买回”相应数量的日元期货合约，从而关闭其在期货市场上的交易。这个买回动作的成本，加上当时的现货市场汇率，就形成了公司实际购买日元的价格。\n",
    "\n",
    "\"\"\"\n",
    "#期货空头问题：先承约空头（f1），再通过收款日承约多头（f2）进行抵消（f1-f2），获得盈利。最终兑换价格为当时的现货价格（s2）+ 抵消后的盈利（f1-f2）\n",
    "#1. 定义参数\n",
    "n = 4\n",
    "amount = 12500000 #每个期货的数量\n",
    "f1 = 1.0800 #锁定了这个汇率价格\n",
    "f2 = 1.0250 #平仓价（在这个情况中日元贬值了，所以有盈利）\n",
    "s2 = 1.0200 #平仓时现货价格\n",
    "\n",
    "#2. 期货合约的盈利：\n",
    "profit_per_unit = f1 - f2\n",
    "total_profit = profit_per_unit * n * amount\n",
    "\n",
    "#3. 基差(现货价格 - 期货价格)：\n",
    "b2 = s2 - f2\n",
    "\n",
    "#4. 每日元实际所得美元：\n",
    "actual_price = f1 + (s2 - f2)\n",
    "\n",
    "#5. 总美元收益\n",
    "usd_received = actual_price * amount * n\n",
    "\n",
    "\n",
    "print(f\"期货合约的盈利（每日元）: {profit_per_unit:.4f} 美分\")\n",
    "print(f\"合约平仓时的基差: {b2:.4f} 美分\")\n",
    "print(f\"实际购买日元的价格: {actual_price:.4f} 美分\")\n",
    "print(f\"公司从5000万日元所得的美元数量: ${usd_received:,.2f}\")\n",
    "\n"
   ]
  },
  {
   "cell_type": "code",
   "execution_count": 9,
   "metadata": {},
   "outputs": [
    {
     "name": "stdout",
     "output_type": "stream",
     "text": [
      "期货合约的盈利: 1.1000 \n",
      "合约平仓时的基差: 0.9000 \n",
      "实际买入原油的价格: 48.9000 \n",
      "购买原油总价格: $978,000.00\n"
     ]
    }
   ],
   "source": [
    "\"\"\"\n",
    "【例3-2】 期货多头：\n",
    "\n",
    "假定今天是6月8 日，一冢公司知道在10月或11月需要买入20000桶原油。 目前在CME集团纽约商品交易所 (NYMEX) 中，任何一个月交割的原油期货合约都有交易，每份合约的规模为 1000 桶 原油 。 公司决定利用 12月期货进行对冲，并买入了 20 份 12 月合约的多头 。 6 月 8 日 ， 期货价格是每桶 48.00 美元 ，公司在 11 月 10 日需要 购买原油， 因此在该天对期货合约平仓 。 在 11 月 10 日这 一天，现 货价格 和期 货价格分别是 每桶 50.00 美元和每桶 49. 10 美元 。\n",
    "\"\"\"\n",
    "#期货多头问题：先承约多头（f1），再通过收款日承约空头（f2）进行抵消（f2 - f1），获得盈利。最终兑换价格为当时的现货价格（s2）+ 抵消后的盈利（f1-f2）\n",
    "#1. 定义参数\n",
    "n = 20\n",
    "amount = 1000 #每个期货的数量\n",
    "f1 = 48 #锁定了这个汇率价格\n",
    "f2 = 49.1 #平仓价（在这个情况中原油，所以有盈利）\n",
    "s2 = 50 #平仓时现货价格\n",
    "\n",
    "#2. 期货合约的盈利：\n",
    "profit_per_unit = f2 - f1\n",
    "total_profit = profit_per_unit * n * amount\n",
    "\n",
    "#3. 基差(现货价格 - 期货价格)：\n",
    "b2 = s2 - f2\n",
    "\n",
    "#4. 每日元实际所得美元：\n",
    "actual_price = f1 + (s2 - f2)\n",
    "\n",
    "#5. 总美元收益\n",
    "usd_received = actual_price * amount * n\n",
    "\n",
    "\n",
    "print(f\"期货合约的盈利: {profit_per_unit:.4f} \")\n",
    "print(f\"合约平仓时的基差: {b2:.4f} \")\n",
    "print(f\"实际买入原油的价格: {actual_price:.4f} \")\n",
    "print(f\"购买原油总价格: ${usd_received:,.2f}\")\n"
   ]
  },
  {
   "cell_type": "code",
   "execution_count": 1,
   "metadata": {},
   "outputs": [
    {
     "name": "stdout",
     "output_type": "stream",
     "text": [
      "optimal hedge ratio: 0.7798 \n",
      "optimal number of contracts: 37.1313 \n"
     ]
    }
   ],
   "source": [
    "'''\n",
    "Optimal Hedge Ratio:\n",
    "σs =  standard deviation of ΔS,the change in the spot price during the hedging period\n",
    "σF = the standard deviation of ΔF, the change in the futures price during the hedging period\n",
    "ρ is the coefficient of correlation between ΔS and ΔF.\n",
    "\n",
    "【例3-3】Airline will purchase 2 million gallons of jet fuel in one month and hedges using heating oil futures. From historical data σF =0.0313, σS =0.0263, and ρ= 0.928. The size of one heating oil contract is 42,000 gallons\n",
    "'''\n",
    "#1. 定义参数\n",
    "σF =0.0313\n",
    "σS =0.0263\n",
    "ρ= 0.928\n",
    "QA = 2000000 #size of the position being hedged\n",
    "QF = 42000#size of contract\n",
    "\n",
    "#2. optimal hedge ratio\n",
    "h_star =  ρ * σS /σF\n",
    "\n",
    "print(f\"optimal hedge ratio: {h_star:.4f} \")\n",
    "\n",
    "#2. optimal number of contracts\n",
    "N_star = h_star * QA / QF\n",
    "print(f\"optimal number of contracts: {N_star:.4f} \")\n",
    "\n",
    "#3. Optimal Number of Contracts When Contract Is Settled Daily\n",
    "#定义参数\n",
    "σF_hat = 12#'SD of percentage daily changes in futures'\n",
    "ρ_hat = 12#'Correlation between percentage daily changes for spot and futures'\n",
    "σS_hat = 12#'SD of percentage daily changes in spot'\n",
    "VA = 12#'value of the position being hedged'\n",
    "VF = 12#'futures price times the size of one contract'\n",
    "\n",
    "h_hat = ρ_hat * σS_hat /σF_hat\n",
    "N_daily = h_hat * VA/VF"
   ]
  },
  {
   "cell_type": "code",
   "execution_count": 15,
   "metadata": {},
   "outputs": [
    {
     "name": "stdout",
     "output_type": "stream",
     "text": [
      "optimal number of contracts: 7500.0000 \n",
      "optimal number of contracts (complicated case): 30.0000 \n",
      "profit (complicated case): 810000.0000 \n",
      "股票组合的期望收益: 4286187.5000 \n",
      "最终投资组合收益（期货收益 + 股票组合收益）: 5096187.5000 \n"
     ]
    }
   ],
   "source": [
    "'''\n",
    "Hedging Using Index Futures\n",
    "股指期货：用于对冲一只股票\n",
    "当 BETA=1.0 时，股票组合收益 = 股指收益;\n",
    "当 BETA=2.0 时，股票组合收益 = 股指收益的两倍;\n",
    "当 BETA= 0.5 时，股票组合收益 = 无风险利率的收益的一半\n",
    "\n",
    "【例3-4】Index futures price is 1,000\n",
    " Value of Portfolio is $5 million \n",
    " Beta of portfolio is 1.5\n",
    "What position in futures contracts on the index is necessary to hedge the portfolio?\n",
    "'''\n",
    "\n",
    "#1. 定义参数\n",
    "VA = 5000000\n",
    "VF = 1000\n",
    "beta = 1.5\n",
    "\n",
    "#2. optimal number of contracts\n",
    "N_star = beta * VA / VF\n",
    "print(f\"optimal number of contracts: {N_star:.4f} \")\n",
    "\n",
    "'''\n",
    "更复杂的情况：利用 4 个月期限的期货合约来对股票组合在今后 3 个月内的价值进行对冲\n",
    "\n",
    "股指当前值 = 1 000 \n",
    "股指期货价格 = 1010\n",
    "组合价值 = 5 050 000( 美元) \n",
    "无风险利率 = 4% (每年) \n",
    "股指券息收益率 = 1%(每年)\n",
    "beta = 1.5\n",
    "每份期货合约 = 250 美元*股指\n",
    "假定股指在 3 个月后为 900, 期货价格为 902, 期货空头的收益为？\n",
    "'''\n",
    "#1. 定义参数\n",
    "s1 = 1000\n",
    "f1 = 1010\n",
    "s2 = 900\n",
    "f2 = 902\n",
    "amount = 250 #每个期货的数量\n",
    "beta = 1.5\n",
    "t = 3/12 #三个月\n",
    "dividend_yield = .01 * t\n",
    "r = .04 * t\n",
    "\n",
    "#2. optimal number of contracts\n",
    "VF = 250 * 1010\n",
    "VA = 5050000\n",
    "N_star = beta * VA / VF\n",
    "print(f\"optimal number of contracts (complicated case): {N_star:.4f} \")\n",
    "\n",
    "#3. 期货空头的收益\n",
    "future_profit = N_star * (f1 - f2) * amount\n",
    "print(f\"profit (complicated case): {future_profit:.4f} \")\n",
    "\n",
    "#4. 利用资产定价模型来计算最终预期值\n",
    "#股票组合的期望收益 - 无风险利率 = beta X (股指收益-无风险利率)\n",
    "index_yield_percentage = (s2 - s1)/ s1 + dividend_yield\n",
    "expected_portfolio_income_percentage = r + (beta * (index_yield_percentage - r))\n",
    "expected_portfolio_value = (1 + expected_portfolio_income_percentage) * VA\n",
    "print(f\"股票组合的期望收益: {expected_portfolio_value:.4f} \")\n",
    "\n",
    "#5. 最终投资组合收益（期货收益 + 股票组合收益）\n",
    "expected_final_value = expected_portfolio_value + future_profit\n",
    "print(f\"最终投资组合收益（期货收益 + 股票组合收益）: {expected_final_value:.4f} \")\n"
   ]
  },
  {
   "cell_type": "markdown",
   "metadata": {},
   "source": [
    "### 第4章 利息 Interest Rates\n",
    "- 4.1～4.2: 复利公式（compounding)\n",
    "- 4.3: 债券定价 + par yield + coupon yield\n",
    "- 4.4: 确定零息利率 (bootstrap method)\n",
    "- 4.5：远期利率\n",
    "- 4.6：FRA(远期利率合约)"
   ]
  },
  {
   "cell_type": "code",
   "execution_count": 16,
   "metadata": {},
   "outputs": [
    {
     "name": "stdout",
     "output_type": "stream",
     "text": [
      "与之等价的连续复利利率为: 0.0975803283388641\n"
     ]
    }
   ],
   "source": [
    "import math\n",
    "\n",
    "#1. 定义参数\n",
    "A = 100\n",
    "m = 4 #quarterly compounding\n",
    "r = .05\n",
    "t = 1 #number of yrs\n",
    "\n",
    "#离散/连续复利公式\n",
    "A_annual_compounded = A * (1+r/m)**(m * t)\n",
    "A_continuously_compounded = A * math.exp(r * t)\n",
    "\n",
    "'''\n",
    "离散利率转连续利率\n",
    "【例 4-1 】 假设利率报价为每年 10%按半年复利 。 因此 m =2, Rm= 0. 1, 由式 (4-3) 得出，与之等价的连续复利利率为\n",
    "'''\n",
    "#1. 定义参数\n",
    "A = 100\n",
    "m = 2\n",
    "r = .1\n",
    "Rm = 0.1\n",
    "t = 1 #number of yrs\n",
    "\n",
    "#计算Rc\n",
    "Rc  = m * math.log(1 + Rm / m)\n",
    "print('与之等价的连续复利利率为:', Rc)\n",
    "\n",
    "'''\n",
    "连续利率转离散利率\n",
    "【例 4-2】 假设某贷款人对贷敖利率的报价为每年8% ，连续复利，利息每季度支付一次，因此 m =4, Rc= 0.08。 由式( 4-4) 得出，与之等价的按季度复利的利率为\n",
    "'''\n",
    "import math\n",
    "#1. 定义参数\n",
    "A = 100\n",
    "m = 4\n",
    "r = .1\n",
    "Rc = .08\n",
    "t = 1 #number of yrs\n",
    "\n",
    "#计算Rc\n",
    "Rm  = m * (math.exp(Rc/m) - 1)\n",
    "print('与之等价的离散复利利率为:', Rm)"
   ]
  },
  {
   "cell_type": "code",
   "execution_count": 27,
   "metadata": {},
   "outputs": [
    {
     "name": "stdout",
     "output_type": "stream",
     "text": [
      "券息（cash flow）的贴现值: [2.925929736084998, 2.8309498423103956, 2.7253920482061185, 2.6185278974661577]\n",
      "本金的贴现值: 87.28426324887192\n",
      "1. 债券理论价格(本金贴现 + 券息贴现): 98.38506277293959\n",
      "2. 计算债券收益率(解y): 0.06762438716028782\n",
      "3. 平价收益率（c = par yield）: 6.872876169086231 %\n"
     ]
    }
   ],
   "source": [
    "'''\n",
    "债券定价 & 已知零息利率，用精准零息利率贴现\n",
    "【例 4-3】假设零息利率和maturity已知，表中的利率是按连续复利。 假设一个两年期债券的本金为 100 美 元，券息为 6% ，每半年付息一次，到期归还本金\n",
    "\n",
    "1. 债券理论价格（bond price）？\n",
    "2. 债券收益率(y = bond yield)?\n",
    "3. 平价收益率（c = par yield）?\n",
    "'''\n",
    "import math\n",
    "#定义参数\n",
    "A = 100\n",
    "m = 2\n",
    "coupon = .06 / m\n",
    "\n",
    "#给表格建模\n",
    "freq = 4 #表格长度\n",
    "maturity = [i * 0.5 for i in range(1,freq + 1)]\n",
    "spot_rate = [i *.01 for i in [5, 5.8, 6.4, 6.8] ]\n",
    "\n",
    "\n",
    "\n",
    "#1. 计算债券理论价格(本金贴现 + 券息贴现)\n",
    "coupon_cash_flow = coupon * A\n",
    "discounted_coupon_cash_flow = []\n",
    "for i in range(freq):\n",
    "    cf = coupon_cash_flow * math.exp(-maturity[i] * spot_rate[i])\n",
    "    discounted_coupon_cash_flow.append(cf)\n",
    "\n",
    "discounted_A = A * math.exp(-maturity[-1] * spot_rate[-1])\n",
    "\n",
    "print(\"券息（cash flow）的贴现值:\", discounted_coupon_cash_flow)\n",
    "print(\"本金的贴现值:\", discounted_A)\n",
    "\n",
    "bond_price = discounted_A + sum(discounted_coupon_cash_flow)\n",
    "print(\"1. 债券理论价格(本金贴现 + 券息贴现):\", bond_price)\n",
    "\n",
    "\n",
    "\n",
    "#2. 计算债券收益率(解y)\n",
    "from scipy.optimize import fsolve\n",
    "import numpy as np\n",
    "\n",
    "def equation(y):\n",
    "    discounted_y_cash_flow = []\n",
    "    for i in range(freq):\n",
    "        cf = coupon_cash_flow * math.exp(-maturity[i] * y)\n",
    "        discounted_y_cash_flow.append(cf)\n",
    "    y_discounted_A = A * math.exp(-maturity[-1] * y)\n",
    "    return y_discounted_A + sum(discounted_y_cash_flow) - bond_price\n",
    "\n",
    "\n",
    "initial_guess = [1]\n",
    "\n",
    "y_solution = fsolve(equation, initial_guess)\n",
    "print(\"2. 计算债券收益率(解y):\", y_solution[0])\n",
    "\n",
    "\n",
    "#3. 平价收益率（c = par yield）\n",
    "from scipy.optimize import fsolve\n",
    "import numpy as np\n",
    "\n",
    "def equation(c):\n",
    "    discounted_c_cash_flow = []\n",
    "    for i in range(freq):\n",
    "        cf = (c/2) * math.exp(-maturity[i] * spot_rate[i])\n",
    "        discounted_c_cash_flow.append(cf)\n",
    "    c_discounted_A = A * math.exp(-maturity[-1] * spot_rate[-1])\n",
    "    return c_discounted_A + sum(discounted_c_cash_flow) - A\n",
    "\n",
    "\n",
    "initial_guess = [1]\n",
    "\n",
    "c_solution = fsolve(equation, initial_guess)\n",
    "print(\"3. 平价收益率（c = par yield）:\", c_solution[0], '%')"
   ]
  },
  {
   "cell_type": "code",
   "execution_count": 40,
   "metadata": {},
   "outputs": [
    {
     "data": {
      "text/plain": [
       "[0.0201006717070027,\n",
       " 0.022245608947319726,\n",
       " 0.022844486604668115,\n",
       " 0.02416378695338813]"
      ]
     },
     "execution_count": 40,
     "metadata": {},
     "output_type": "execute_result"
    }
   ],
   "source": [
    "'''【4-4】用债券价格确定零息利率 (bootstrap method)\n",
    "plot the zero curve using given data\n",
    "'''\n",
    "\n",
    "import math\n",
    "from scipy.optimize import fsolve\n",
    "#定义参数\n",
    "A = 100\n",
    "m = 2\n",
    "#给表格建模\n",
    "freq = 4 #表格长度\n",
    "maturity = [0.5, 1, 1.5, 2]\n",
    "coupon_per_yr = [0,0,4,5] #money returned\n",
    "bond_price = [99, 97.8, 102.5, 105.0]\n",
    "\n",
    "#zero rate without coupon (coupon = 0):\n",
    "zero_curve = []\n",
    "\n",
    "for i in range(freq):\n",
    "    if coupon_per_yr[i] == 0:\n",
    "        def equation(r):\n",
    "            return bond_price[i] * math.exp(r * maturity[i]) - A\n",
    "        initial_guess = [1]\n",
    "        r_solution = fsolve(equation, initial_guess)\n",
    "        zero_curve.append(r_solution[0])\n",
    "    else:\n",
    "        coupon_cash_flow = coupon_per_yr[i] / m\n",
    "        def equation(r):\n",
    "            discounted_cash_flow = []\n",
    "            for j in range (i):\n",
    "                discounted_cash_flow.append(coupon_cash_flow * math.exp(-maturity[j] * zero_curve[j]))\n",
    "            final_term = (A + coupon_cash_flow) * math.exp(-r * maturity[i])\n",
    "            return final_term + sum(discounted_cash_flow) - bond_price[i]\n",
    "        initial_guess = [1]\n",
    "        r_solution = fsolve(equation, initial_guess)\n",
    "        zero_curve.append(r_solution[0])        \n",
    "\n",
    "zero_curve    \n",
    "\n"
   ]
  },
  {
   "cell_type": "code",
   "execution_count": 45,
   "metadata": {},
   "outputs": [
    {
     "data": {
      "text/plain": [
       "[5.0, 5.799999999999999, 6.200000000000001, 6.5]"
      ]
     },
     "execution_count": 45,
     "metadata": {},
     "output_type": "execute_result"
    }
   ],
   "source": [
    "''' \n",
    "【4-5】用零息利率确定远期利率\n",
    "forward rate =  future zero rate implied by today’s term structure\n",
    "'''\n",
    "#给表格建模\n",
    "freq = 5 #表格长度\n",
    "maturity = [i for i in range(1,6)]\n",
    "zero_rate = [3.0, 4, 4.6, 5, 5.3]\n",
    "forward_rates = []\n",
    "\n",
    "for i in range(freq - 1):\n",
    "    forward_rate = (maturity[i+1] * zero_rate[i+1] - maturity[i] * zero_rate[i])/(maturity[i+1] - maturity[i])\n",
    "    forward_rates.append(forward_rate)\n",
    "\n",
    "forward_rates"
   ]
  },
  {
   "cell_type": "code",
   "execution_count": 46,
   "metadata": {},
   "outputs": [
    {
     "name": "stdout",
     "output_type": "stream",
     "text": [
      "0.36924653855465434\n"
     ]
    }
   ],
   "source": [
    "''' \n",
    "【4-6】FRA(远期利率合约)\n",
    "用predetermined forward rate来换actual forward rate\n",
    "\n",
    "An FRA entered into some time ago states that a company will receive 5.8% (s.a.) and pay SOFR on a principal of $100 million starting in 1.5 years\n",
    "Forward SOFR for the period between 1.5 and 2 years is 5% (s.a.) The 2 year (SOFR) risk-free rate is 4% with continuous compounding\n",
    "求value of FRA\n",
    "'''\n",
    "import math\n",
    "\n",
    "#定义参数\n",
    "A = 100\n",
    "m = 2\n",
    "T1 = 1.5\n",
    "T2 = 2\n",
    "actual_rate = .05\n",
    "fixed_rate = .058\n",
    "r = .04\n",
    "\n",
    "# 计算fra\n",
    "FRA_VALUE = A * (fixed_rate - actual_rate) * (T2 - T1) * math.exp(-r*T2)\n",
    "\n",
    "print(FRA_VALUE)\n"
   ]
  },
  {
   "cell_type": "markdown",
   "metadata": {},
   "source": [
    "### 第5章 确定远期和期货价格 Determination of Forward and Futures Prices\n",
    "- 5.1: 投资资产的远期价格\n",
    "- 4.3: 债券定价 + par yield + coupon yield\n",
    "- 4.4: 确定零息利率 (bootstrap method)\n",
    "- 4.5：远期利率\n",
    "- 4.6：FRA(远期利率合约)"
   ]
  }
 ],
 "metadata": {
  "kernelspec": {
   "display_name": "base",
   "language": "python",
   "name": "python3"
  },
  "language_info": {
   "codemirror_mode": {
    "name": "ipython",
    "version": 3
   },
   "file_extension": ".py",
   "mimetype": "text/x-python",
   "name": "python",
   "nbconvert_exporter": "python",
   "pygments_lexer": "ipython3",
   "version": "3.8.8"
  }
 },
 "nbformat": 4,
 "nbformat_minor": 2
}
